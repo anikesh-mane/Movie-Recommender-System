{
 "cells": [
  {
   "cell_type": "markdown",
   "id": "aa5f3c2b",
   "metadata": {},
   "source": [
    "### 1. Import necessary packages"
   ]
  },
  {
   "cell_type": "code",
   "execution_count": 1,
   "id": "3b0d9ace",
   "metadata": {},
   "outputs": [],
   "source": [
    "import numpy as np\n",
    "import pandas as pd\n",
    "#import plotly"
   ]
  },
  {
   "cell_type": "markdown",
   "id": "94dd9b41",
   "metadata": {
    "heading_collapsed": true
   },
   "source": [
    "### 2. Reading the Data files"
   ]
  },
  {
   "cell_type": "code",
   "execution_count": null,
   "id": "cd1ab36e",
   "metadata": {
    "hidden": true
   },
   "outputs": [],
   "source": [
    "credits_df = pd.read_csv(r'data/credits.csv')\n",
    "credits_df.head()"
   ]
  },
  {
   "cell_type": "code",
   "execution_count": null,
   "id": "5f8e4f2d",
   "metadata": {
    "hidden": true
   },
   "outputs": [],
   "source": [
    "keywords_df = pd.read_csv(r'data/keywords.csv')\n",
    "keywords_df.head()"
   ]
  },
  {
   "cell_type": "code",
   "execution_count": null,
   "id": "78473269",
   "metadata": {
    "hidden": true
   },
   "outputs": [],
   "source": [
    "links_df = pd.read_csv(r'data/links.csv')\n",
    "links_df.head()"
   ]
  },
  {
   "cell_type": "code",
   "execution_count": null,
   "id": "a281aece",
   "metadata": {
    "hidden": true
   },
   "outputs": [],
   "source": [
    "movies_metadata_df = pd.read_csv(r'data/movies_metadata.csv')\n",
    "movies_metadata_df.head()"
   ]
  },
  {
   "cell_type": "code",
   "execution_count": null,
   "id": "7f28c8f8",
   "metadata": {
    "hidden": true
   },
   "outputs": [],
   "source": [
    "ratings_df = pd.read_csv(r'data/ratings.csv')\n",
    "ratings_df.head()"
   ]
  },
  {
   "cell_type": "markdown",
   "id": "50b2de3b",
   "metadata": {
    "heading_collapsed": true
   },
   "source": [
    "### 3. Exploratory Data Analysis"
   ]
  },
  {
   "cell_type": "markdown",
   "id": "771441c9",
   "metadata": {
    "hidden": true
   },
   "source": [
    "#### 3.1 Restructuring Credits DataFrame"
   ]
  },
  {
   "cell_type": "code",
   "execution_count": null,
   "id": "13d7cf27",
   "metadata": {
    "hidden": true
   },
   "outputs": [],
   "source": [
    "credits_df.info()"
   ]
  },
  {
   "cell_type": "code",
   "execution_count": null,
   "id": "e506b508",
   "metadata": {
    "hidden": true
   },
   "outputs": [],
   "source": [
    "credits_df.loc[0,'cast']"
   ]
  },
  {
   "cell_type": "code",
   "execution_count": null,
   "id": "e91c2c21",
   "metadata": {
    "hidden": true
   },
   "outputs": [],
   "source": [
    "import ast\n",
    "a = ast.literal_eval(credits_df.loc[0,'cast'])"
   ]
  },
  {
   "cell_type": "code",
   "execution_count": null,
   "id": "27957bf0",
   "metadata": {
    "hidden": true
   },
   "outputs": [],
   "source": [
    "a[0]['name']"
   ]
  },
  {
   "cell_type": "code",
   "execution_count": null,
   "id": "7b9467e3",
   "metadata": {
    "hidden": true
   },
   "outputs": [],
   "source": [
    "def extract_cast_names(cast_list):\n",
    "    ''' This function returns list of names of top 4 cast from the string of list of dictionaries of cast details.\n",
    "        If details are not found, it will return 'NA'. '''\n",
    "    cast_names = []\n",
    "\n",
    "    #converting to list from string\n",
    "    cast_list = ast.literal_eval(cast_list)\n",
    "    \n",
    "    if len(cast_list) == 0:\n",
    "        return 'NA'\n",
    "    else:\n",
    "        for i in range(len(cast_list)):\n",
    "            name = cast_list[i]['name']\n",
    "            cast_names.append(name)\n",
    "            if i == 4:\n",
    "                break\n",
    "        return cast_names"
   ]
  },
  {
   "cell_type": "code",
   "execution_count": null,
   "id": "ca20cf81",
   "metadata": {
    "hidden": true
   },
   "outputs": [],
   "source": [
    "extract_cast_names(credits_df.loc[0,'cast'])"
   ]
  },
  {
   "cell_type": "code",
   "execution_count": null,
   "id": "0087cc94",
   "metadata": {
    "hidden": true
   },
   "outputs": [],
   "source": [
    "credits_df['Cast_Names'] = credits_df['cast'].map(extract_cast_names)\n",
    "credits_df.head()"
   ]
  },
  {
   "cell_type": "code",
   "execution_count": null,
   "id": "49f3276c",
   "metadata": {
    "hidden": true
   },
   "outputs": [],
   "source": [
    "credits_df.loc[0,'crew']"
   ]
  },
  {
   "cell_type": "code",
   "execution_count": null,
   "id": "3feceeb5",
   "metadata": {
    "hidden": true
   },
   "outputs": [],
   "source": [
    "a = ast.literal_eval(credits_df.loc[0,'crew'])\n",
    "a[0]"
   ]
  },
  {
   "cell_type": "code",
   "execution_count": null,
   "id": "f79cadfe",
   "metadata": {
    "hidden": true
   },
   "outputs": [],
   "source": [
    "def extract_director_name(crew_list):\n",
    "    ''' This function returns name of the director from the string of list of dictionaries of crew details '''\n",
    "\n",
    "    #converting to list from string\n",
    "    crew_list = ast.literal_eval(crew_list)\n",
    "    \n",
    "    if len(crew_list) == 0:\n",
    "        return 'NA'\n",
    "    else:\n",
    "        for i in range(len(crew_list)):\n",
    "            if crew_list[i]['job'] == 'Director':\n",
    "                return crew_list[i]['name']\n",
    "            "
   ]
  },
  {
   "cell_type": "code",
   "execution_count": null,
   "id": "8f31bf6f",
   "metadata": {
    "hidden": true
   },
   "outputs": [],
   "source": [
    "extract_director_name(credits_df.loc[661,'crew'])"
   ]
  },
  {
   "cell_type": "code",
   "execution_count": null,
   "id": "7bc4e7c2",
   "metadata": {
    "hidden": true
   },
   "outputs": [],
   "source": [
    "credits_df['Director'] = credits_df['crew'].map(extract_director_name)\n",
    "credits_df.head()"
   ]
  },
  {
   "cell_type": "code",
   "execution_count": null,
   "id": "891c0ccb",
   "metadata": {
    "hidden": true
   },
   "outputs": [],
   "source": [
    "credits_df.drop(columns=['cast','crew'], inplace=True)\n",
    "credits_df.info()"
   ]
  },
  {
   "cell_type": "code",
   "execution_count": null,
   "id": "a60b6727",
   "metadata": {
    "hidden": true
   },
   "outputs": [],
   "source": [
    "credits_df[credits_df['Director'].isnull()]"
   ]
  },
  {
   "cell_type": "markdown",
   "id": "ac42031d",
   "metadata": {
    "hidden": true
   },
   "source": [
    "#### 3.2 Restructuring Keywords DataFrame"
   ]
  },
  {
   "cell_type": "code",
   "execution_count": null,
   "id": "e9de507c",
   "metadata": {
    "hidden": true
   },
   "outputs": [],
   "source": [
    "keywords_df.head()"
   ]
  },
  {
   "cell_type": "code",
   "execution_count": null,
   "id": "8fcb23b4",
   "metadata": {
    "hidden": true
   },
   "outputs": [],
   "source": [
    "keywords_df.loc[0, 'keywords']"
   ]
  },
  {
   "cell_type": "code",
   "execution_count": null,
   "id": "a52fdc04",
   "metadata": {
    "hidden": true
   },
   "outputs": [],
   "source": [
    "def extract_keywords(keyword_list):\n",
    "    '''This function returns list of keywords from the string of list of dictionaries of keywords.\n",
    "        If keywords are not found, it will return 'NA'.'''\n",
    "    keywords = []\n",
    "\n",
    "    #converting to list from string\n",
    "    keyword_list = ast.literal_eval(keyword_list)\n",
    "    \n",
    "    if len(keyword_list) == 0:\n",
    "        return 'NA'\n",
    "    else:\n",
    "        for i in range(len(keyword_list)):\n",
    "            word = keyword_list[i]['name']\n",
    "            keywords.append(word)\n",
    "        return keywords"
   ]
  },
  {
   "cell_type": "code",
   "execution_count": null,
   "id": "7857f407",
   "metadata": {
    "hidden": true
   },
   "outputs": [],
   "source": [
    "extract_keywords(keywords_df.loc[0, 'keywords'])"
   ]
  },
  {
   "cell_type": "code",
   "execution_count": null,
   "id": "e53a70a5",
   "metadata": {
    "hidden": true
   },
   "outputs": [],
   "source": [
    "keywords_df['Keywords'] = keywords_df['keywords'].map(extract_keywords)\n",
    "keywords_df.head()"
   ]
  },
  {
   "cell_type": "code",
   "execution_count": null,
   "id": "0482ac11",
   "metadata": {
    "hidden": true
   },
   "outputs": [],
   "source": [
    "keywords_df['Keywords'] = keywords_df['Keywords'].apply(lambda x: [i.replace(\" \",'') for i in x])"
   ]
  },
  {
   "cell_type": "code",
   "execution_count": null,
   "id": "25b86855",
   "metadata": {
    "hidden": true
   },
   "outputs": [],
   "source": [
    "len(keywords_df[keywords_df['Keywords'] == 'NA'])"
   ]
  },
  {
   "cell_type": "code",
   "execution_count": null,
   "id": "177891b1",
   "metadata": {
    "hidden": true
   },
   "outputs": [],
   "source": [
    "keywords_df = keywords_df[['id', 'Keywords']]"
   ]
  },
  {
   "cell_type": "code",
   "execution_count": null,
   "id": "168a3b1c",
   "metadata": {
    "hidden": true
   },
   "outputs": [],
   "source": [
    "keywords_df.loc[0,'Keywords']"
   ]
  },
  {
   "cell_type": "markdown",
   "id": "e645d816",
   "metadata": {
    "hidden": true
   },
   "source": [
    "#### 3.3 Restructuring Ratings DataFrame"
   ]
  },
  {
   "cell_type": "code",
   "execution_count": null,
   "id": "6bc90f4a",
   "metadata": {
    "hidden": true
   },
   "outputs": [],
   "source": [
    "ratings_df.head()"
   ]
  },
  {
   "cell_type": "code",
   "execution_count": null,
   "id": "feb541c2",
   "metadata": {
    "hidden": true
   },
   "outputs": [],
   "source": [
    "ratings_df.info()"
   ]
  },
  {
   "cell_type": "code",
   "execution_count": null,
   "id": "1bad6c95",
   "metadata": {
    "hidden": true
   },
   "outputs": [],
   "source": [
    "new_ratings_df = ratings_df.groupby(by='movieId').mean()[['rating']]\n",
    "new_ratings_df.info()"
   ]
  },
  {
   "cell_type": "code",
   "execution_count": null,
   "id": "cb606ba2",
   "metadata": {
    "hidden": true
   },
   "outputs": [],
   "source": [
    "new_ratings_df.reset_index(inplace=True)\n",
    "new_ratings_df.info()"
   ]
  },
  {
   "cell_type": "code",
   "execution_count": null,
   "id": "5d0f2ff3",
   "metadata": {
    "hidden": true
   },
   "outputs": [],
   "source": [
    "new_ratings_df.head()"
   ]
  },
  {
   "cell_type": "markdown",
   "id": "cba075b3",
   "metadata": {
    "hidden": true
   },
   "source": [
    "#### 3.4 Exploring Metadata DataFrame"
   ]
  },
  {
   "cell_type": "code",
   "execution_count": null,
   "id": "1825c90b",
   "metadata": {
    "hidden": true
   },
   "outputs": [],
   "source": [
    "movies_metadata_df.head()"
   ]
  },
  {
   "cell_type": "code",
   "execution_count": null,
   "id": "6708a497",
   "metadata": {
    "hidden": true
   },
   "outputs": [],
   "source": [
    "movies_metadata_df.info()"
   ]
  },
  {
   "cell_type": "code",
   "execution_count": null,
   "id": "f5252ade",
   "metadata": {
    "hidden": true
   },
   "outputs": [],
   "source": [
    "# Dropping columns having >50% null values\n",
    "cols_to_drop = []\n",
    "for column in movies_metadata_df.columns:\n",
    "    if (len(movies_metadata_df[movies_metadata_df[column].isnull()==True]) / 45466) > 0.5:\n",
    "        cols_to_drop.append(column)\n",
    "\n",
    "cols_to_drop"
   ]
  },
  {
   "cell_type": "code",
   "execution_count": null,
   "id": "70166a1f",
   "metadata": {
    "hidden": true
   },
   "outputs": [],
   "source": [
    "cols_to_drop += ['adult','budget','poster_path','production_companies','production_countries','runtime','revenue','status','original_title','video',\n",
    "                 'vote_average', 'vote_count']\n",
    "cols_to_drop"
   ]
  },
  {
   "cell_type": "code",
   "execution_count": null,
   "id": "07216e5f",
   "metadata": {
    "hidden": true
   },
   "outputs": [],
   "source": [
    "new_metadata_df = movies_metadata_df.drop(columns=cols_to_drop)\n",
    "new_metadata_df.info()"
   ]
  },
  {
   "cell_type": "code",
   "execution_count": null,
   "id": "d476a596",
   "metadata": {
    "hidden": true
   },
   "outputs": [],
   "source": [
    "#searching for inconsistencies in the 'id' column\n",
    "import re\n",
    "\n",
    "new_metadata_df[new_metadata_df['id'].apply(lambda x : bool(re.match(r'^[0-9]+$', x))) == False]"
   ]
  },
  {
   "cell_type": "code",
   "execution_count": null,
   "id": "4867b7f5",
   "metadata": {
    "hidden": true
   },
   "outputs": [],
   "source": [
    "# dropping the found inconsistencies\n",
    "new_metadata_df.drop(index=[19730,29503,35587],inplace=True)"
   ]
  },
  {
   "cell_type": "code",
   "execution_count": null,
   "id": "12653f5b",
   "metadata": {
    "hidden": true
   },
   "outputs": [],
   "source": [
    "# changing the data type of 'id' to 'int'\n",
    "new_metadata_df['id'] = new_metadata_df['id'].astype(int)"
   ]
  },
  {
   "cell_type": "code",
   "execution_count": null,
   "id": "f04b59cb",
   "metadata": {
    "hidden": true
   },
   "outputs": [],
   "source": [
    "# changing data type of 'imdb_id' to string\n",
    "new_metadata_df['imdb_id'] = new_metadata_df['imdb_id'].astype(str)"
   ]
  },
  {
   "cell_type": "markdown",
   "id": "2bb12822",
   "metadata": {
    "hidden": true
   },
   "source": [
    "#### 3.5 Combining all DataFrames"
   ]
  },
  {
   "cell_type": "code",
   "execution_count": null,
   "id": "d232b024",
   "metadata": {
    "hidden": true
   },
   "outputs": [],
   "source": [
    "credits_df.info()"
   ]
  },
  {
   "cell_type": "code",
   "execution_count": null,
   "id": "1315c3b3",
   "metadata": {
    "hidden": true
   },
   "outputs": [],
   "source": [
    "new_metadata_df.info()"
   ]
  },
  {
   "cell_type": "code",
   "execution_count": null,
   "id": "595da4e4",
   "metadata": {
    "hidden": true
   },
   "outputs": [],
   "source": [
    "final_data = pd.merge(new_metadata_df, credits_df, on='id', how='inner')\n",
    "final_data.info()"
   ]
  },
  {
   "cell_type": "code",
   "execution_count": null,
   "id": "a62eae76",
   "metadata": {
    "hidden": true
   },
   "outputs": [],
   "source": [
    "final_data = pd.merge(final_data, keywords_df, on='id', how='inner')\n",
    "final_data.info()"
   ]
  },
  {
   "cell_type": "code",
   "execution_count": null,
   "id": "03bf1594",
   "metadata": {
    "hidden": true
   },
   "outputs": [],
   "source": [
    "final_data = final_data[['id', 'imdb_id', 'title','genres', 'overview', 'original_language',\n",
    "                         'Director','Cast_Names','Keywords','release_date']]\n",
    "final_data.head()"
   ]
  },
  {
   "cell_type": "markdown",
   "id": "cc6d52f1",
   "metadata": {
    "hidden": true
   },
   "source": [
    "#### 3.6 Cleaning Final Data"
   ]
  },
  {
   "cell_type": "markdown",
   "id": "202c376f",
   "metadata": {
    "hidden": true
   },
   "source": [
    "##### i. Removing NULL samples"
   ]
  },
  {
   "cell_type": "code",
   "execution_count": null,
   "id": "7ffce672",
   "metadata": {
    "hidden": true
   },
   "outputs": [],
   "source": [
    "# Finding columns Having null Values\n",
    "final_data.isnull().sum()"
   ]
  },
  {
   "cell_type": "code",
   "execution_count": null,
   "id": "0696c10a",
   "metadata": {
    "hidden": true
   },
   "outputs": [],
   "source": [
    "# Dropping NULL samples from 'Overview' column\n",
    "final_data.drop(index = final_data[final_data['overview'].isnull()==True].index, inplace=True)"
   ]
  },
  {
   "cell_type": "code",
   "execution_count": null,
   "id": "357132ba",
   "metadata": {
    "hidden": true
   },
   "outputs": [],
   "source": [
    "final_data.isnull().sum()"
   ]
  },
  {
   "cell_type": "code",
   "execution_count": null,
   "id": "1c5fed46",
   "metadata": {
    "hidden": true
   },
   "outputs": [],
   "source": [
    "# Dropping NULL samples from 'Director' column\n",
    "final_data.drop(index = final_data[final_data['Director'].isnull()==True].index, inplace=True)\n",
    "final_data.isnull().sum()"
   ]
  },
  {
   "cell_type": "code",
   "execution_count": null,
   "id": "8db1f241",
   "metadata": {
    "hidden": true
   },
   "outputs": [],
   "source": [
    "# Dropping NULL samples from 'release_date' column\n",
    "final_data.drop(index = final_data[final_data['release_date'].isnull()==True].index, inplace=True)\n",
    "final_data.isnull().sum()"
   ]
  },
  {
   "cell_type": "code",
   "execution_count": null,
   "id": "646a7531",
   "metadata": {
    "hidden": true
   },
   "outputs": [],
   "source": [
    "# Dropping NULL samples from 'original_language' column\n",
    "final_data.drop(index = final_data[final_data['original_language'].isnull()==True].index, inplace=True)\n",
    "final_data.isnull().sum()"
   ]
  },
  {
   "cell_type": "markdown",
   "id": "8586d326",
   "metadata": {
    "hidden": true
   },
   "source": [
    "##### ii. Cleaning Duplicate values "
   ]
  },
  {
   "cell_type": "code",
   "execution_count": null,
   "id": "ddf033f2",
   "metadata": {
    "hidden": true
   },
   "outputs": [],
   "source": [
    "final_data['id'].duplicated().sum()"
   ]
  },
  {
   "cell_type": "code",
   "execution_count": null,
   "id": "328a19ba",
   "metadata": {
    "hidden": true
   },
   "outputs": [],
   "source": [
    "# Dropping Duplicated samples from 'id' column\n",
    "final_data.drop(index = final_data[final_data['id'].duplicated()==True].index, inplace=True)\n",
    "final_data['id'].duplicated().sum()"
   ]
  },
  {
   "cell_type": "code",
   "execution_count": null,
   "id": "8d57bc14",
   "metadata": {
    "hidden": true
   },
   "outputs": [],
   "source": [
    "final_data['imdb_id'].duplicated().sum()"
   ]
  },
  {
   "cell_type": "code",
   "execution_count": null,
   "id": "c38c7e4a",
   "metadata": {
    "hidden": true
   },
   "outputs": [],
   "source": [
    "# Dropping Duplicated samples from 'imdb_id' column\n",
    "final_data.drop(index = final_data[final_data['imdb_id'].duplicated()==True].index, inplace=True)\n",
    "final_data['id'].duplicated().sum()"
   ]
  },
  {
   "cell_type": "code",
   "execution_count": null,
   "id": "1fb75009",
   "metadata": {
    "hidden": true
   },
   "outputs": [],
   "source": [
    "# Checking for duplicate Titles\n",
    "final_data['title'].duplicated().sum()"
   ]
  },
  {
   "cell_type": "code",
   "execution_count": null,
   "id": "411c06dd",
   "metadata": {
    "hidden": true,
    "scrolled": true
   },
   "outputs": [],
   "source": [
    "final_data[final_data['title']=='Sabrina']"
   ]
  },
  {
   "cell_type": "code",
   "execution_count": null,
   "id": "c1dab0fd",
   "metadata": {
    "hidden": true
   },
   "outputs": [],
   "source": [
    "# Dropping duplicates from 'Title' colum by keeping the first occurence.\n",
    "final_data.drop_duplicates(['title'], keep='first',inplace=True)"
   ]
  },
  {
   "cell_type": "markdown",
   "id": "caa331e6",
   "metadata": {
    "hidden": true
   },
   "source": [
    "##### Some more cleaning"
   ]
  },
  {
   "cell_type": "code",
   "execution_count": null,
   "id": "df93cc2e",
   "metadata": {
    "hidden": true
   },
   "outputs": [],
   "source": [
    "# Extracting list of genres\n",
    "def extract_genres(genre_list):\n",
    "    ''' This function returns list of genres from the string of list of dictionaries of genre details.\n",
    "        If details are not found, it will return 'NA'. '''\n",
    "    genres = []\n",
    "\n",
    "    #converting to list from string\n",
    "    genre_list = ast.literal_eval(genre_list)\n",
    "    \n",
    "    if len(genre_list) == 0:\n",
    "        return 'NA'\n",
    "    else:\n",
    "        for i in range(len(genre_list)):\n",
    "            name = genre_list[i]['name']\n",
    "            genres.append(name)\n",
    "        return genres"
   ]
  },
  {
   "cell_type": "code",
   "execution_count": null,
   "id": "04edcf83",
   "metadata": {
    "hidden": true
   },
   "outputs": [],
   "source": [
    "final_data['genres'] = final_data['genres'].map(extract_genres)\n",
    "final_data.head()"
   ]
  },
  {
   "cell_type": "code",
   "execution_count": null,
   "id": "24321935",
   "metadata": {
    "hidden": true
   },
   "outputs": [],
   "source": [
    "# viewing distribution of 'original language'\n",
    "final_data['original_language'].value_counts()"
   ]
  },
  {
   "cell_type": "code",
   "execution_count": null,
   "id": "73039a96",
   "metadata": {
    "hidden": true
   },
   "outputs": [],
   "source": [
    "# keeping movies only with english, french, japanese, itallian language\n",
    "final_data = final_data[final_data['original_language'].isin(['en','fr','ja','it'])]"
   ]
  },
  {
   "cell_type": "code",
   "execution_count": null,
   "id": "f8d85130",
   "metadata": {
    "hidden": true
   },
   "outputs": [],
   "source": [
    "final_data.drop(index=final_data[final_data['genres'] == 'NA'].index, inplace=True)"
   ]
  },
  {
   "cell_type": "code",
   "execution_count": null,
   "id": "7839e1ca",
   "metadata": {
    "hidden": true
   },
   "outputs": [],
   "source": [
    "final_data.drop(index=final_data[final_data['Director'] == 'NA'].index, inplace=True)"
   ]
  },
  {
   "cell_type": "code",
   "execution_count": null,
   "id": "3df97e7e",
   "metadata": {
    "hidden": true
   },
   "outputs": [],
   "source": [
    "final_data.drop(index=final_data[final_data['Cast_Names'] == 'NA'].index, inplace=True)"
   ]
  },
  {
   "cell_type": "code",
   "execution_count": null,
   "id": "bce282ae",
   "metadata": {
    "hidden": true
   },
   "outputs": [],
   "source": [
    "final_data.drop(columns=['Keywords'], inplace=True)"
   ]
  },
  {
   "cell_type": "code",
   "execution_count": null,
   "id": "205d00ed",
   "metadata": {
    "hidden": true
   },
   "outputs": [],
   "source": [
    "# Changing the data type of 'release date' too date time\n",
    "final_data['release_date'] = pd.to_datetime(final_data['release_date'], format='%Y-%m-%d', errors='coerce')"
   ]
  },
  {
   "cell_type": "code",
   "execution_count": null,
   "id": "5dad2856",
   "metadata": {
    "hidden": true
   },
   "outputs": [],
   "source": [
    "# Changing values of 'overview' from string to list of strings\n",
    "final_data['overview'] = final_data['overview'].astype(str)\n",
    "final_data.head()"
   ]
  },
  {
   "cell_type": "code",
   "execution_count": null,
   "id": "329f41a0",
   "metadata": {
    "hidden": true
   },
   "outputs": [],
   "source": [
    "final_data.info()"
   ]
  },
  {
   "cell_type": "markdown",
   "id": "efc816f9",
   "metadata": {
    "heading_collapsed": true
   },
   "source": [
    "### 4. Preprocessing"
   ]
  },
  {
   "cell_type": "code",
   "execution_count": null,
   "id": "4ef1f643",
   "metadata": {
    "hidden": true
   },
   "outputs": [],
   "source": [
    "final_data.head()"
   ]
  },
  {
   "cell_type": "code",
   "execution_count": null,
   "id": "4934f1f5",
   "metadata": {
    "hidden": true
   },
   "outputs": [],
   "source": [
    "final_data['Director'] = final_data['Director'].astype(str)\n",
    "final_data['original_language'] = final_data['original_language'].astype(str)"
   ]
  },
  {
   "cell_type": "code",
   "execution_count": null,
   "id": "a2bd67fd",
   "metadata": {
    "hidden": true
   },
   "outputs": [],
   "source": [
    "final_data.head()"
   ]
  },
  {
   "cell_type": "code",
   "execution_count": null,
   "id": "92d515ce",
   "metadata": {
    "hidden": true
   },
   "outputs": [],
   "source": [
    "# Removing white spaces from string\n",
    "\n",
    "final_data['Cast_Names'] = final_data['Cast_Names'].apply(lambda x: [i.replace(\" \",'') for i in x])\n",
    "final_data['genres'] = final_data['genres'].apply(lambda x: [i.replace(\" \",'') for i in x])\n",
    "final_data['original_language'] = final_data['original_language'].apply(lambda x: [i.replace(\" \",'') for i in x])\n",
    "final_data['Director'] = final_data['Director'].apply(lambda x: [i.replace(\" \",'') for i in x])\n",
    "\n",
    "final_data.head()"
   ]
  },
  {
   "cell_type": "code",
   "execution_count": null,
   "id": "4c201701",
   "metadata": {
    "hidden": true
   },
   "outputs": [],
   "source": [
    "final_data['Director'] = final_data['Director'].apply(lambda x: [''.join(x)])\n",
    "final_data['original_language'] = final_data['original_language'].apply(lambda x: [''.join(x)])\n",
    "final_data.head()"
   ]
  },
  {
   "cell_type": "code",
   "execution_count": null,
   "id": "c0b12d18",
   "metadata": {
    "hidden": true
   },
   "outputs": [],
   "source": [
    "# Creating tags column\n",
    "final_data['tags'] = final_data['genres'] + final_data['Cast_Names'] + final_data['Director'] + final_data['original_language'] + final_data['Keywords'] \n",
    "final_data.head()"
   ]
  },
  {
   "cell_type": "code",
   "execution_count": null,
   "id": "a76349c8",
   "metadata": {
    "hidden": true
   },
   "outputs": [],
   "source": [
    "ml_model_data = final_data[['id', 'imdb_id','title', 'tags','overview','release_date']]\n",
    "ml_model_data.head()"
   ]
  },
  {
   "cell_type": "code",
   "execution_count": null,
   "id": "29c7a5d1",
   "metadata": {
    "hidden": true
   },
   "outputs": [],
   "source": [
    "# Exporting final dataframe as csv\n",
    "ml_model_data.to_csv('ml_model_data_v1.csv')"
   ]
  },
  {
   "cell_type": "markdown",
   "id": "18d62cfa",
   "metadata": {},
   "source": [
    "### 5. Building basic nlp based model"
   ]
  },
  {
   "cell_type": "code",
   "execution_count": null,
   "id": "07651e4c",
   "metadata": {},
   "outputs": [],
   "source": [
    "ml_model_data = pd.read_csv('ml_model_data_v1.csv')"
   ]
  },
  {
   "cell_type": "code",
   "execution_count": null,
   "id": "4022d5ea",
   "metadata": {},
   "outputs": [],
   "source": [
    "ml_model_data.head()"
   ]
  },
  {
   "cell_type": "code",
   "execution_count": null,
   "id": "20b3cfb3",
   "metadata": {},
   "outputs": [],
   "source": [
    "ml_model_data.drop(columns=['Unnamed: 0'], inplace=True)"
   ]
  },
  {
   "cell_type": "code",
   "execution_count": null,
   "id": "4bf1adbb",
   "metadata": {},
   "outputs": [],
   "source": [
    "ml_model_data.head()"
   ]
  },
  {
   "cell_type": "code",
   "execution_count": null,
   "id": "277b8ce4",
   "metadata": {},
   "outputs": [],
   "source": [
    "# Changing all the tags to lower case\n",
    "ml_model_data['tags'] = ml_model_data['tags'].apply(lambda x: x.lower())\n",
    "ml_model_data['overview'] = ml_model_data['overview'].apply(lambda x: x.lower())"
   ]
  },
  {
   "cell_type": "code",
   "execution_count": null,
   "id": "2e060dc3",
   "metadata": {},
   "outputs": [],
   "source": [
    "ml_model_data.head()"
   ]
  },
  {
   "cell_type": "code",
   "execution_count": null,
   "id": "6270a382",
   "metadata": {},
   "outputs": [],
   "source": [
    "# applying stemming\n",
    "from nltk import PorterStemmer\n",
    "ps = PorterStemmer()"
   ]
  },
  {
   "cell_type": "code",
   "execution_count": null,
   "id": "21dd0530",
   "metadata": {},
   "outputs": [],
   "source": [
    "def stemming(txt):\n",
    "    words = []\n",
    "    \n",
    "    for word in txt.split():\n",
    "        words.append( ps.stem(word) )\n",
    "    \n",
    "    return ' '.join(words)"
   ]
  },
  {
   "cell_type": "code",
   "execution_count": null,
   "id": "8af64e0c",
   "metadata": {},
   "outputs": [],
   "source": [
    "ml_model_data['overview'] = ml_model_data['overview'].apply(stemming)"
   ]
  },
  {
   "cell_type": "code",
   "execution_count": null,
   "id": "fb3400b8",
   "metadata": {},
   "outputs": [],
   "source": [
    "ml_model_data.head()"
   ]
  },
  {
   "cell_type": "code",
   "execution_count": null,
   "id": "9bfb1110",
   "metadata": {},
   "outputs": [],
   "source": [
    "ml_model_data['overview'] = ml_model_data['overview'].apply(lambda x: x.split())"
   ]
  },
  {
   "cell_type": "code",
   "execution_count": null,
   "id": "dfa35816",
   "metadata": {},
   "outputs": [],
   "source": [
    "import ast\n",
    "ml_model_data['tags'] = ml_model_data['tags'].apply(lambda x: ast.literal_eval(x))"
   ]
  },
  {
   "cell_type": "code",
   "execution_count": null,
   "id": "d215dc2b",
   "metadata": {},
   "outputs": [],
   "source": [
    "type(ml_model_data.loc[0,'tags'])"
   ]
  },
  {
   "cell_type": "code",
   "execution_count": null,
   "id": "234e186e",
   "metadata": {},
   "outputs": [],
   "source": [
    "ml_model_data['tags'] = ml_model_data['tags'] + ml_model_data['overview']\n",
    "ml_model_data.head()"
   ]
  },
  {
   "cell_type": "code",
   "execution_count": null,
   "id": "6f6ea6a0",
   "metadata": {
    "scrolled": true
   },
   "outputs": [],
   "source": [
    "ml_model_data.loc[0,'tags']"
   ]
  },
  {
   "cell_type": "code",
   "execution_count": null,
   "id": "e2d3232b",
   "metadata": {},
   "outputs": [],
   "source": [
    "ml_model_data['tags'] = ml_model_data['tags'].apply(lambda x: \" \".join(x))"
   ]
  },
  {
   "cell_type": "code",
   "execution_count": null,
   "id": "68d616bf",
   "metadata": {},
   "outputs": [],
   "source": [
    "ml_model_data.head()"
   ]
  },
  {
   "cell_type": "code",
   "execution_count": null,
   "id": "33f94ef5",
   "metadata": {},
   "outputs": [],
   "source": [
    "# Creating a term-frequency matrix with 5,000 tokens\n",
    "\n",
    "from sklearn.feature_extraction.text import CountVectorizer\n",
    "\n",
    "cv = CountVectorizer(max_features=5000, stop_words='english')\n",
    "vectors = cv.fit_transform(ml_model_data['tags']).toarray()"
   ]
  },
  {
   "cell_type": "code",
   "execution_count": null,
   "id": "9cb5ea68",
   "metadata": {},
   "outputs": [],
   "source": [
    "cv.get_feature_names()"
   ]
  },
  {
   "cell_type": "code",
   "execution_count": null,
   "id": "72e80c8d",
   "metadata": {},
   "outputs": [],
   "source": [
    "# Calculating cosine similarity for the TF matrix\n",
    "from sklearn.metrics.pairwise import cosine_similarity\n",
    "\n",
    "similarity_matrix = cosine_similarity(vectors)"
   ]
  },
  {
   "cell_type": "code",
   "execution_count": null,
   "id": "05615c51",
   "metadata": {},
   "outputs": [],
   "source": [
    "similarity_matrix.shape"
   ]
  },
  {
   "cell_type": "code",
   "execution_count": null,
   "id": "c2d5f3d7",
   "metadata": {},
   "outputs": [],
   "source": [
    "# The main function to make recommendations\n",
    "\n",
    "def recommend_movies(movie_name):\n",
    "    ''' This method prints 5 closest movies to the input movie_name '''\n",
    "    \n",
    "    # Extracting index of input movie from data\n",
    "    if movie_name in ml_model_data['title'].tolist():\n",
    "        \n",
    "        movie_index = ml_model_data[ml_model_data['title'] == movie_name].index[0]\n",
    "    \n",
    "        # Calculating input movie's distances from all other movies in data\n",
    "        dist_from_other_movies = similarity_matrix_comp[movie_index]\n",
    "\n",
    "        # Finding top 5 closest movie indices\n",
    "        recommendation_list = sorted(list(enumerate(dist_from_other_movies)), key=lambda x: x[1], reverse=True)[1:11]\n",
    "\n",
    "        # Printing names of recommended movies\n",
    "        recommends = []\n",
    "        for i in range(10):\n",
    "            recommends.append(ml_model_data.iloc[ recommendation_list[i][0] ]['title'])\n",
    "        \n",
    "        return recommends\n",
    "    \n",
    "    else:\n",
    "        return \"Movie not found in database!\"\n",
    "    "
   ]
  },
  {
   "cell_type": "code",
   "execution_count": null,
   "id": "282b0a91",
   "metadata": {},
   "outputs": [],
   "source": [
    "recommend_movies('Iron Man')"
   ]
  },
  {
   "cell_type": "markdown",
   "id": "30b0741d",
   "metadata": {},
   "source": [
    "### 6. Exporting data"
   ]
  },
  {
   "cell_type": "code",
   "execution_count": null,
   "id": "ced7cfad",
   "metadata": {},
   "outputs": [],
   "source": [
    "type(similarity_matrix)"
   ]
  },
  {
   "cell_type": "code",
   "execution_count": null,
   "id": "70864e20",
   "metadata": {},
   "outputs": [],
   "source": [
    "print(similarity_matrix.nbytes)\n",
    "similarity_matrix_comp = similarity_matrix.astype('float16')\n",
    "similarity_matrix_comp.nbytes"
   ]
  },
  {
   "cell_type": "code",
   "execution_count": 16,
   "id": "fc2f7d7e",
   "metadata": {},
   "outputs": [],
   "source": [
    "import pickle"
   ]
  },
  {
   "cell_type": "code",
   "execution_count": null,
   "id": "4bef3476",
   "metadata": {},
   "outputs": [],
   "source": [
    "final_data = ml_model_data.drop(columns=['overview'])\n",
    "pickle.dump(final_data.to_dict(), open('final_movie_data_dict.pkl','wb'))"
   ]
  },
  {
   "cell_type": "code",
   "execution_count": null,
   "id": "a845737a",
   "metadata": {},
   "outputs": [],
   "source": [
    "pickle.dump(similarity_matrix_comp, open('similarity_matrix_comp.pkl','wb'), protocol=4)"
   ]
  },
  {
   "cell_type": "code",
   "execution_count": 17,
   "id": "6ae4a0f1",
   "metadata": {},
   "outputs": [],
   "source": [
    "similarity_matrix = pickle.load(open(r'A:\\VS Code Python\\Project Deployments\\Movie Recommender\\similarity_matrix_comp.pkl', 'rb'))"
   ]
  },
  {
   "cell_type": "code",
   "execution_count": 21,
   "id": "661d868c",
   "metadata": {},
   "outputs": [],
   "source": [
    "copy = similarity_matrix[0:5,0:5]"
   ]
  },
  {
   "cell_type": "code",
   "execution_count": 2,
   "id": "9ed85789",
   "metadata": {},
   "outputs": [],
   "source": [
    "import pymongo\n",
    "import pymongoarrow\n",
    "from pymongo import MongoClient"
   ]
  },
  {
   "cell_type": "code",
   "execution_count": 5,
   "id": "0c4ca22a",
   "metadata": {},
   "outputs": [],
   "source": [
    "client = MongoClient('localhost',27017)\n",
    "\n",
    "#Let’s connect to a test database named ‘test_database’ and a test collection named ‘test_collection.’\n",
    "db = client.test_database\n",
    "col = db.test_collection"
   ]
  },
  {
   "cell_type": "code",
   "execution_count": 6,
   "id": "ce743112",
   "metadata": {},
   "outputs": [
    {
     "data": {
      "text/plain": [
       "<pymongo.results.InsertManyResult at 0x163b707a948>"
      ]
     },
     "execution_count": 6,
     "metadata": {},
     "output_type": "execute_result"
    }
   ],
   "source": [
    "# let’s insert a few documents into the test_database.test_collection collection\n",
    "from datetime import datetime\n",
    "\n",
    "col.insert_many([\n",
    "{'_id': 1, 'measure': 43, 'status':'active', 'installed_on': datetime(2022, 1, 8, 3, 43, 12)},\n",
    "{'_id': 2, 'measure': 32, 'status':'active', 'installed_on': datetime(2022, 2, 2, 11, 43, 27)},\n",
    "{'_id': 3, 'measure': 62, 'status':'inactive', 'installed_on': datetime(2022, 3, 12, 3, 53, 12)},\n",
    "{'_id': 4, 'measure': 59, 'status':'active', 'installed_on': datetime(2022, 4, 8, 3, 22, 45)}\n",
    "])"
   ]
  },
  {
   "cell_type": "code",
   "execution_count": 7,
   "id": "f004f5d0",
   "metadata": {},
   "outputs": [
    {
     "name": "stdout",
     "output_type": "stream",
     "text": [
      "{'_id': 1,\n",
      " 'installed_on': datetime.datetime(2022, 1, 8, 3, 43, 12),\n",
      " 'measure': 43,\n",
      " 'status': 'active'}\n",
      "{'_id': 2,\n",
      " 'installed_on': datetime.datetime(2022, 2, 2, 11, 43, 27),\n",
      " 'measure': 32,\n",
      " 'status': 'active'}\n",
      "{'_id': 3,\n",
      " 'installed_on': datetime.datetime(2022, 3, 12, 3, 53, 12),\n",
      " 'measure': 62,\n",
      " 'status': 'inactive'}\n",
      "{'_id': 4,\n",
      " 'installed_on': datetime.datetime(2022, 4, 8, 3, 22, 45),\n",
      " 'measure': 59,\n",
      " 'status': 'active'}\n"
     ]
    }
   ],
   "source": [
    "# let’s verify that the data has been successfully written to your database\n",
    "import pprint\n",
    "for doc in col.find({}):\n",
    "   pprint.pprint(doc)"
   ]
  },
  {
   "cell_type": "code",
   "execution_count": 8,
   "id": "49625697",
   "metadata": {},
   "outputs": [],
   "source": [
    "# use PyMongoArrow’s functionality directly to Collection instances of PyMongo.\n",
    "from pymongoarrow.monkey import patch_all\n",
    "patch_all()"
   ]
  },
  {
   "cell_type": "code",
   "execution_count": 10,
   "id": "7923a59d",
   "metadata": {},
   "outputs": [
    {
     "data": {
      "text/html": [
       "<div>\n",
       "<style scoped>\n",
       "    .dataframe tbody tr th:only-of-type {\n",
       "        vertical-align: middle;\n",
       "    }\n",
       "\n",
       "    .dataframe tbody tr th {\n",
       "        vertical-align: top;\n",
       "    }\n",
       "\n",
       "    .dataframe thead th {\n",
       "        text-align: right;\n",
       "    }\n",
       "</style>\n",
       "<table border=\"1\" class=\"dataframe\">\n",
       "  <thead>\n",
       "    <tr style=\"text-align: right;\">\n",
       "      <th></th>\n",
       "      <th>_id</th>\n",
       "      <th>measure</th>\n",
       "      <th>status</th>\n",
       "      <th>installed_on</th>\n",
       "    </tr>\n",
       "  </thead>\n",
       "  <tbody>\n",
       "    <tr>\n",
       "      <th>0</th>\n",
       "      <td>1</td>\n",
       "      <td>43</td>\n",
       "      <td>active</td>\n",
       "      <td>2022-01-08 03:43:12</td>\n",
       "    </tr>\n",
       "    <tr>\n",
       "      <th>1</th>\n",
       "      <td>3</td>\n",
       "      <td>62</td>\n",
       "      <td>inactive</td>\n",
       "      <td>2022-03-12 03:53:12</td>\n",
       "    </tr>\n",
       "    <tr>\n",
       "      <th>2</th>\n",
       "      <td>4</td>\n",
       "      <td>59</td>\n",
       "      <td>active</td>\n",
       "      <td>2022-04-08 03:22:45</td>\n",
       "    </tr>\n",
       "  </tbody>\n",
       "</table>\n",
       "</div>"
      ],
      "text/plain": [
       "   _id  measure    status        installed_on\n",
       "0    1       43    active 2022-01-08 03:43:12\n",
       "1    3       62  inactive 2022-03-12 03:53:12\n",
       "2    4       59    active 2022-04-08 03:22:45"
      ]
     },
     "execution_count": 10,
     "metadata": {},
     "output_type": "execute_result"
    }
   ],
   "source": [
    "#  PyMongoArrow’s find_pandas_all() function to export MongoDB results set into Pandas DataFrame.\n",
    "df = col.find_pandas_all({'measure': {'$gt': 40}}) # {'measure': {'$gt': 40}}\n",
    "df"
   ]
  },
  {
   "cell_type": "code",
   "execution_count": 11,
   "id": "abf9cb1c",
   "metadata": {},
   "outputs": [
    {
     "data": {
      "text/plain": [
       "{'_id': array([1, 2, 3, 4]),\n",
       " 'measure': array([43, 32, 62, 59]),\n",
       " 'status': array(['active', 'active', 'inactive', 'active'], dtype='<U8'),\n",
       " 'installed_on': array(['2022-01-08T03:43:12.000', '2022-02-02T11:43:27.000',\n",
       "        '2022-03-12T03:53:12.000', '2022-04-08T03:22:45.000'],\n",
       "       dtype='datetime64[ms]')}"
      ]
     },
     "execution_count": 11,
     "metadata": {},
     "output_type": "execute_result"
    }
   ],
   "source": [
    "# use PyMongoArrow’s find_numpy_all() function to export MongoDB results set into NumPy Array. \n",
    "np_array = col.find_numpy_all({})\n",
    "np_array"
   ]
  },
  {
   "cell_type": "code",
   "execution_count": 15,
   "id": "090740ea",
   "metadata": {},
   "outputs": [
    {
     "data": {
      "text/plain": [
       "dict"
      ]
     },
     "execution_count": 15,
     "metadata": {},
     "output_type": "execute_result"
    }
   ],
   "source": [
    "type(np_array)"
   ]
  },
  {
   "cell_type": "markdown",
   "id": "c4efa6c5",
   "metadata": {},
   "source": [
    "#### Importing Data from Pandas DataFrame into MongoDB\n",
    "Importing data from Pandas DataFrame is clear using PyMongoArrow’s write() function. Write (collection, tabular) function takes two arguments:\n",
    "\n",
    "collection – Name of the collection in which you want to write the data.\n",
    "tabular – which is an instance of result.ArrowWriteResult. It could be your pandas dataframe, NumPy ndarray, or Arrow Table\n",
    "\n",
    "Let’s import the ‘write’ function and invoke it. We will pass it two arguments i.e. ‘the name of the collection where we want to write the data and the “dataframe which we want to write to MongoDB.” We will reuse the ‘df’ DataFrame we created in the previous example."
   ]
  },
  {
   "cell_type": "code",
   "execution_count": 12,
   "id": "e436f477",
   "metadata": {},
   "outputs": [
    {
     "data": {
      "text/plain": [
       "{'insertedCount': 3}"
      ]
     },
     "execution_count": 12,
     "metadata": {},
     "output_type": "execute_result"
    }
   ],
   "source": [
    "from pymongoarrow.api import write\n",
    "write(db.pandas_data, df)"
   ]
  },
  {
   "cell_type": "code",
   "execution_count": 14,
   "id": "cafe897e",
   "metadata": {},
   "outputs": [
    {
     "name": "stdout",
     "output_type": "stream",
     "text": [
      "{'_id': 1,\n",
      " 'installed_on': datetime.datetime(2022, 1, 8, 3, 43, 12),\n",
      " 'measure': 43,\n",
      " 'status': 'active'}\n",
      "{'_id': 3,\n",
      " 'installed_on': datetime.datetime(2022, 3, 12, 3, 53, 12),\n",
      " 'measure': 62,\n",
      " 'status': 'inactive'}\n",
      "{'_id': 4,\n",
      " 'installed_on': datetime.datetime(2022, 4, 8, 3, 22, 45),\n",
      " 'measure': 59,\n",
      " 'status': 'active'}\n"
     ]
    }
   ],
   "source": [
    "for doc in db.pandas_data.find({}):\n",
    "    pprint.pprint(doc)"
   ]
  },
  {
   "cell_type": "code",
   "execution_count": 42,
   "id": "2695b999",
   "metadata": {},
   "outputs": [
    {
     "data": {
      "text/html": [
       "<div>\n",
       "<style scoped>\n",
       "    .dataframe tbody tr th:only-of-type {\n",
       "        vertical-align: middle;\n",
       "    }\n",
       "\n",
       "    .dataframe tbody tr th {\n",
       "        vertical-align: top;\n",
       "    }\n",
       "\n",
       "    .dataframe thead th {\n",
       "        text-align: right;\n",
       "    }\n",
       "</style>\n",
       "<table border=\"1\" class=\"dataframe\">\n",
       "  <thead>\n",
       "    <tr style=\"text-align: right;\">\n",
       "      <th></th>\n",
       "      <th>0</th>\n",
       "      <th>1</th>\n",
       "      <th>2</th>\n",
       "      <th>3</th>\n",
       "      <th>4</th>\n",
       "    </tr>\n",
       "  </thead>\n",
       "  <tbody>\n",
       "    <tr>\n",
       "      <th>0</th>\n",
       "      <td>1.000000</td>\n",
       "      <td>0.094910</td>\n",
       "      <td>0.050140</td>\n",
       "      <td>0.063293</td>\n",
       "      <td>0.150391</td>\n",
       "    </tr>\n",
       "    <tr>\n",
       "      <th>1</th>\n",
       "      <td>0.094910</td>\n",
       "      <td>1.000000</td>\n",
       "      <td>0.066040</td>\n",
       "      <td>0.027771</td>\n",
       "      <td>0.022018</td>\n",
       "    </tr>\n",
       "    <tr>\n",
       "      <th>2</th>\n",
       "      <td>0.050140</td>\n",
       "      <td>0.066040</td>\n",
       "      <td>1.000000</td>\n",
       "      <td>0.088074</td>\n",
       "      <td>0.046509</td>\n",
       "    </tr>\n",
       "    <tr>\n",
       "      <th>3</th>\n",
       "      <td>0.063293</td>\n",
       "      <td>0.027771</td>\n",
       "      <td>0.088074</td>\n",
       "      <td>1.000000</td>\n",
       "      <td>0.058685</td>\n",
       "    </tr>\n",
       "    <tr>\n",
       "      <th>4</th>\n",
       "      <td>0.150391</td>\n",
       "      <td>0.022018</td>\n",
       "      <td>0.046509</td>\n",
       "      <td>0.058685</td>\n",
       "      <td>1.000000</td>\n",
       "    </tr>\n",
       "  </tbody>\n",
       "</table>\n",
       "</div>"
      ],
      "text/plain": [
       "          0         1         2         3         4\n",
       "0  1.000000  0.094910  0.050140  0.063293  0.150391\n",
       "1  0.094910  1.000000  0.066040  0.027771  0.022018\n",
       "2  0.050140  0.066040  1.000000  0.088074  0.046509\n",
       "3  0.063293  0.027771  0.088074  1.000000  0.058685\n",
       "4  0.150391  0.022018  0.046509  0.058685  1.000000"
      ]
     },
     "execution_count": 42,
     "metadata": {},
     "output_type": "execute_result"
    }
   ],
   "source": [
    "# Importing Data from NumPy Array into MongoDB\n",
    "copy_df = pd.DataFrame(copy)\n",
    "copy_df\n"
   ]
  },
  {
   "cell_type": "code",
   "execution_count": 43,
   "id": "ed2b1ce7",
   "metadata": {},
   "outputs": [],
   "source": [
    "copy_df.columns = copy_df.columns.astype('str')"
   ]
  },
  {
   "cell_type": "code",
   "execution_count": 48,
   "id": "0f95681c",
   "metadata": {},
   "outputs": [
    {
     "data": {
      "text/plain": [
       "0    float64\n",
       "1    float64\n",
       "2    float64\n",
       "3    float64\n",
       "4    float64\n",
       "dtype: object"
      ]
     },
     "execution_count": 48,
     "metadata": {},
     "output_type": "execute_result"
    }
   ],
   "source": [
    "copy_df = copy_df.astype('float64')\n",
    "copy_df.dtypes"
   ]
  },
  {
   "cell_type": "code",
   "execution_count": 49,
   "id": "cbdc9497",
   "metadata": {},
   "outputs": [
    {
     "data": {
      "text/plain": [
       "{'insertedCount': 5}"
      ]
     },
     "execution_count": 49,
     "metadata": {},
     "output_type": "execute_result"
    }
   ],
   "source": [
    "write(db.copy_data, copy_df)"
   ]
  },
  {
   "cell_type": "code",
   "execution_count": 50,
   "id": "1014c5ab",
   "metadata": {},
   "outputs": [
    {
     "name": "stdout",
     "output_type": "stream",
     "text": [
      "{'0': 1.0,\n",
      " '1': 0.09490966796875,\n",
      " '2': 0.050140380859375,\n",
      " '3': 0.06329345703125,\n",
      " '4': 0.150390625,\n",
      " '_id': ObjectId('63d9507532f6a7c10981a244')}\n",
      "{'0': 0.09490966796875,\n",
      " '1': 1.0,\n",
      " '2': 0.0660400390625,\n",
      " '3': 0.02777099609375,\n",
      " '4': 0.0220184326171875,\n",
      " '_id': ObjectId('63d9507532f6a7c10981a245')}\n",
      "{'0': 0.050140380859375,\n",
      " '1': 0.0660400390625,\n",
      " '2': 1.0,\n",
      " '3': 0.08807373046875,\n",
      " '4': 0.0465087890625,\n",
      " '_id': ObjectId('63d9507532f6a7c10981a246')}\n",
      "{'0': 0.06329345703125,\n",
      " '1': 0.02777099609375,\n",
      " '2': 0.08807373046875,\n",
      " '3': 1.0,\n",
      " '4': 0.058685302734375,\n",
      " '_id': ObjectId('63d9507532f6a7c10981a247')}\n",
      "{'0': 0.150390625,\n",
      " '1': 0.0220184326171875,\n",
      " '2': 0.0465087890625,\n",
      " '3': 0.058685302734375,\n",
      " '4': 1.0,\n",
      " '_id': ObjectId('63d9507532f6a7c10981a248')}\n"
     ]
    }
   ],
   "source": [
    "for doc in db.copy_data.find({}):\n",
    "    pprint.pprint(doc)"
   ]
  },
  {
   "cell_type": "code",
   "execution_count": null,
   "id": "a1f2fa1a",
   "metadata": {},
   "outputs": [],
   "source": []
  }
 ],
 "metadata": {
  "kernelspec": {
   "display_name": "Python 3 (ipykernel)",
   "language": "python",
   "name": "python3"
  },
  "language_info": {
   "codemirror_mode": {
    "name": "ipython",
    "version": 3
   },
   "file_extension": ".py",
   "mimetype": "text/x-python",
   "name": "python",
   "nbconvert_exporter": "python",
   "pygments_lexer": "ipython3",
   "version": "3.7.4"
  }
 },
 "nbformat": 4,
 "nbformat_minor": 5
}
